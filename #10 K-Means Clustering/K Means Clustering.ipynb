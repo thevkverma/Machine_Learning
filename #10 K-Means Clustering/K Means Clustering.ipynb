{
 "cells": [
  {
   "cell_type": "code",
   "execution_count": 1,
   "id": "51acdb5c",
   "metadata": {},
   "outputs": [],
   "source": [
    "import matplotlib.pyplot as plt\n",
    "from sklearn.datasets import make_blobs\n",
    "import pandas as pd\n",
    "import numpy as np\n",
    "%matplotlib inline\n",
    "import warnings\n",
    "warnings.filterwarnings('ignore')"
   ]
  },
  {
   "cell_type": "code",
   "execution_count": 2,
   "id": "786d2264",
   "metadata": {},
   "outputs": [],
   "source": [
    "X,y = make_blobs(n_samples=1000, centers=3, n_features=2, random_state=23)"
   ]
  },
  {
   "cell_type": "code",
   "execution_count": 3,
   "id": "f51e73f2",
   "metadata": {},
   "outputs": [
    {
     "data": {
      "text/plain": [
       "(1000, 2)"
      ]
     },
     "execution_count": 3,
     "metadata": {},
     "output_type": "execute_result"
    }
   ],
   "source": [
    "X.shape"
   ]
  },
  {
   "cell_type": "code",
   "execution_count": 4,
   "id": "64e72ec4",
   "metadata": {},
   "outputs": [
    {
     "data": {
      "text/plain": [
       "array([[-5.37039106,  3.47555168],\n",
       "       [ 5.84161203, -3.98182959],\n",
       "       [ 1.76127766,  9.39696306],\n",
       "       ...,\n",
       "       [ 6.14147823, -5.75491603],\n",
       "       [-5.45330839,  1.75599573],\n",
       "       [-0.21966953,  8.72922042]])"
      ]
     },
     "execution_count": 4,
     "metadata": {},
     "output_type": "execute_result"
    }
   ],
   "source": [
    "X"
   ]
  },
  {
   "cell_type": "code",
   "execution_count": 5,
   "id": "d051d20b",
   "metadata": {},
   "outputs": [
    {
     "data": {
      "text/plain": [
       "array([2, 1, 0, 2, 1, 0, 2, 1, 2, 0, 0, 0, 2, 0, 1, 2, 2, 2, 1, 1, 0, 1,\n",
       "       2, 2, 0, 0, 1, 2, 0, 0, 0, 2, 1, 2, 1, 0, 1, 2, 2, 1, 0, 1, 1, 2,\n",
       "       2, 1, 0, 2, 1, 1, 2, 2, 1, 2, 0, 2, 0, 2, 2, 2, 1, 0, 2, 2, 2, 2,\n",
       "       2, 2, 0, 2, 2, 0, 0, 1, 1, 2, 0, 0, 1, 1, 0, 2, 1, 2, 2, 0, 1, 2,\n",
       "       1, 2, 0, 1, 0, 0, 2, 0, 2, 1, 2, 2, 0, 2, 1, 2, 2, 2, 2, 0, 1, 1,\n",
       "       0, 2, 2, 2, 2, 2, 2, 1, 2, 0, 0, 0, 1, 1, 1, 1, 0, 0, 2, 0, 2, 1,\n",
       "       0, 0, 2, 1, 1, 2, 1, 2, 1, 0, 0, 1, 1, 0, 1, 0, 0, 0, 0, 2, 0, 0,\n",
       "       1, 1, 1, 1, 2, 1, 2, 1, 0, 2, 0, 1, 1, 0, 1, 1, 1, 0, 1, 1, 0, 2,\n",
       "       0, 0, 2, 1, 1, 2, 0, 1, 2, 1, 0, 1, 1, 1, 1, 1, 1, 2, 2, 1, 2, 0,\n",
       "       2, 2, 2, 0, 1, 1, 0, 0, 1, 0, 2, 0, 0, 1, 0, 2, 0, 1, 1, 0, 0, 1,\n",
       "       1, 2, 0, 2, 0, 1, 2, 2, 1, 0, 1, 1, 1, 1, 1, 1, 1, 1, 1, 0, 0, 0,\n",
       "       1, 1, 1, 2, 1, 2, 1, 0, 2, 0, 0, 2, 2, 0, 1, 0, 1, 1, 2, 1, 0, 0,\n",
       "       1, 0, 0, 0, 1, 2, 0, 2, 0, 1, 0, 1, 2, 2, 2, 0, 1, 0, 1, 2, 2, 0,\n",
       "       0, 0, 0, 0, 0, 2, 1, 1, 2, 0, 2, 2, 1, 1, 1, 2, 2, 0, 1, 1, 0, 0,\n",
       "       2, 0, 0, 1, 2, 1, 0, 1, 2, 0, 1, 0, 1, 1, 0, 2, 2, 1, 2, 0, 0, 0,\n",
       "       1, 0, 2, 0, 0, 1, 0, 0, 2, 0, 1, 1, 2, 0, 0, 2, 1, 2, 0, 0, 2, 2,\n",
       "       2, 1, 0, 1, 1, 1, 0, 0, 2, 0, 2, 2, 0, 2, 0, 1, 1, 2, 1, 1, 2, 0,\n",
       "       2, 2, 0, 1, 0, 1, 1, 2, 2, 1, 0, 0, 2, 0, 2, 1, 2, 2, 2, 0, 0, 2,\n",
       "       1, 1, 1, 1, 0, 0, 0, 2, 0, 0, 2, 1, 1, 0, 1, 2, 2, 0, 1, 2, 1, 2,\n",
       "       2, 1, 1, 1, 1, 2, 2, 2, 2, 2, 2, 0, 0, 1, 2, 1, 1, 2, 1, 2, 2, 0,\n",
       "       1, 0, 0, 2, 2, 0, 0, 0, 2, 1, 2, 0, 1, 1, 0, 1, 1, 1, 2, 0, 1, 2,\n",
       "       2, 1, 2, 1, 1, 2, 2, 2, 2, 0, 1, 1, 0, 0, 1, 0, 0, 2, 1, 2, 0, 1,\n",
       "       1, 2, 2, 2, 1, 2, 1, 2, 0, 0, 1, 2, 0, 1, 0, 2, 1, 0, 1, 1, 0, 1,\n",
       "       0, 2, 0, 0, 0, 0, 0, 1, 0, 1, 1, 2, 1, 0, 1, 0, 2, 1, 0, 1, 0, 0,\n",
       "       2, 1, 1, 0, 1, 1, 2, 0, 0, 0, 2, 1, 2, 0, 0, 2, 0, 2, 1, 2, 1, 0,\n",
       "       1, 0, 0, 1, 2, 1, 2, 0, 0, 1, 2, 0, 2, 1, 2, 1, 0, 2, 2, 1, 2, 2,\n",
       "       0, 2, 2, 1, 2, 2, 0, 1, 2, 0, 2, 2, 1, 1, 2, 1, 0, 0, 2, 2, 0, 0,\n",
       "       0, 0, 2, 2, 2, 2, 1, 0, 0, 0, 0, 0, 2, 1, 0, 1, 1, 0, 0, 1, 1, 1,\n",
       "       0, 0, 1, 0, 0, 1, 1, 0, 2, 2, 1, 0, 2, 2, 0, 1, 1, 2, 2, 2, 2, 1,\n",
       "       0, 1, 2, 0, 2, 0, 1, 2, 2, 0, 1, 1, 1, 0, 1, 2, 2, 0, 2, 0, 2, 2,\n",
       "       1, 2, 1, 1, 2, 1, 0, 0, 0, 0, 2, 2, 0, 0, 1, 1, 2, 0, 0, 2, 1, 1,\n",
       "       1, 1, 0, 0, 2, 2, 1, 1, 2, 1, 1, 1, 0, 1, 2, 0, 2, 2, 1, 2, 0, 1,\n",
       "       1, 2, 1, 2, 2, 1, 0, 2, 0, 1, 0, 0, 1, 1, 0, 1, 1, 2, 1, 2, 0, 2,\n",
       "       1, 1, 2, 1, 0, 1, 2, 1, 0, 2, 1, 0, 2, 0, 0, 1, 0, 0, 1, 0, 2, 2,\n",
       "       2, 0, 2, 2, 2, 1, 1, 2, 0, 2, 2, 2, 0, 2, 2, 2, 0, 2, 0, 0, 0, 0,\n",
       "       1, 0, 1, 0, 2, 0, 1, 2, 2, 1, 2, 0, 1, 1, 0, 0, 1, 2, 1, 1, 2, 2,\n",
       "       1, 0, 0, 2, 2, 1, 0, 2, 1, 2, 1, 1, 1, 1, 1, 0, 2, 2, 1, 0, 2, 1,\n",
       "       0, 0, 2, 0, 2, 1, 2, 2, 1, 2, 0, 1, 1, 0, 0, 1, 0, 1, 0, 0, 2, 2,\n",
       "       1, 1, 0, 1, 0, 0, 0, 2, 1, 2, 0, 2, 1, 0, 1, 2, 1, 1, 1, 1, 2, 2,\n",
       "       1, 2, 1, 2, 1, 2, 0, 2, 0, 2, 2, 0, 2, 0, 1, 1, 0, 0, 0, 1, 1, 0,\n",
       "       0, 0, 2, 0, 1, 1, 0, 0, 1, 0, 2, 0, 2, 2, 0, 0, 2, 0, 0, 1, 2, 2,\n",
       "       2, 2, 0, 2, 2, 0, 1, 1, 2, 2, 0, 0, 2, 2, 0, 1, 1, 2, 1, 2, 1, 1,\n",
       "       1, 0, 2, 0, 0, 1, 1, 2, 0, 1, 1, 2, 0, 2, 0, 0, 1, 0, 1, 2, 2, 1,\n",
       "       2, 1, 2, 1, 2, 0, 2, 0, 2, 0, 0, 0, 1, 2, 2, 2, 0, 0, 2, 0, 1, 2,\n",
       "       1, 2, 1, 1, 2, 1, 0, 2, 0, 2, 0, 0, 2, 2, 0, 0, 2, 1, 0, 0, 0, 0,\n",
       "       2, 1, 1, 0, 0, 2, 1, 1, 2, 0])"
      ]
     },
     "execution_count": 5,
     "metadata": {},
     "output_type": "execute_result"
    }
   ],
   "source": [
    "y"
   ]
  },
  {
   "cell_type": "code",
   "execution_count": 6,
   "id": "c4a07cd7",
   "metadata": {},
   "outputs": [
    {
     "data": {
      "text/plain": [
       "<matplotlib.collections.PathCollection at 0x23c7444d760>"
      ]
     },
     "execution_count": 6,
     "metadata": {},
     "output_type": "execute_result"
    },
    {
     "data": {
      "image/png": "[encoded data removed]",
      "text/plain": [
       "<Figure size 432x288 with 1 Axes>"
      ]
     },
     "metadata": {
      "needs_background": "light"
     },
     "output_type": "display_data"
    }
   ],
   "source": [
    "plt.scatter(X[:,0],X[:,1])"
   ]
  },
  {
   "cell_type": "code",
   "execution_count": 8,
   "id": "4fcc4c6f",
   "metadata": {},
   "outputs": [],
   "source": [
    "from sklearn.model_selection import train_test_split"
   ]
  },
  {
   "cell_type": "code",
   "execution_count": 9,
   "id": "c7794488",
   "metadata": {},
   "outputs": [],
   "source": [
    "X_train, X_test, y_train, y_test = train_test_split(X,y,test_size=0.33, random_state=42)"
   ]
  },
  {
   "cell_type": "code",
   "execution_count": 11,
   "id": "0332ae54",
   "metadata": {},
   "outputs": [],
   "source": [
    "from sklearn.cluster import KMeans"
   ]
  },
  {
   "cell_type": "code",
   "execution_count": 12,
   "id": "72af031c",
   "metadata": {},
   "outputs": [],
   "source": [
    "## Elbow Method to Select K value\n",
    "wcss = []\n",
    "for k in range(1,11):\n",
    "    kmeans = KMeans(n_clusters=k, init = 'k-means++')\n",
    "    kmeans.fit(X_train)\n",
    "    wcss.append(kmeans.inertia_)"
   ]
  },
  {
   "cell_type": "code",
   "execution_count": 13,
   "id": "03745cfa",
   "metadata": {},
   "outputs": [
    {
     "data": {
      "text/plain": [
       "[34827.576825520235,\n",
       " 7935.437286145424,\n",
       " 1319.2730531585605,\n",
       " 1140.4677884655127,\n",
       " 991.8899785187889,\n",
       " 853.5419769386793,\n",
       " 754.6868465902858,\n",
       " 668.8724902586059,\n",
       " 583.5157412338492,\n",
       " 534.5722652224831]"
      ]
     },
     "execution_count": 13,
     "metadata": {},
     "output_type": "execute_result"
    }
   ],
   "source": [
    "wcss"
   ]
  },
  {
   "cell_type": "code",
   "execution_count": 14,
   "id": "66a4fd80",
   "metadata": {},
   "outputs": [
    {
     "data": {
      "image/png": "[encoded data removed]",
      "text/plain": [
       "<Figure size 432x288 with 1 Axes>"
      ]
     },
     "metadata": {
      "needs_background": "light"
     },
     "output_type": "display_data"
    }
   ],
   "source": [
    "## Plot elbow curve\n",
    "plt.plot(range(1,11),wcss)\n",
    "plt.xticks(range(1,11))\n",
    "plt.xlabel(\"Number of Clusters\")\n",
    "plt.ylabel(\"WCSS\")\n",
    "plt.show()"
   ]
  },
  {
   "cell_type": "code",
   "execution_count": 18,
   "id": "78ea7921",
   "metadata": {},
   "outputs": [],
   "source": [
    "kmeans = KMeans(n_clusters=3, init = \"k-means++\")"
   ]
  },
  {
   "cell_type": "code",
   "execution_count": 19,
   "id": "91d9d2cd",
   "metadata": {},
   "outputs": [],
   "source": [
    "y_labels = kmeans.fit_predict(X_train)"
   ]
  },
  {
   "cell_type": "code",
   "execution_count": 20,
   "id": "99cc2215",
   "metadata": {},
   "outputs": [
    {
     "data": {
      "text/plain": [
       "<matplotlib.collections.PathCollection at 0x23c76817dc0>"
      ]
     },
     "execution_count": 20,
     "metadata": {},
     "output_type": "execute_result"
    },
    {
     "data": {
      "image/png": "[encoded data removed]",
      "text/plain": [
       "<Figure size 432x288 with 1 Axes>"
      ]
     },
     "metadata": {
      "needs_background": "light"
     },
     "output_type": "display_data"
    }
   ],
   "source": [
    "plt.scatter(X_train[:,0],X_train[:,1],c=y_labels)"
   ]
  },
  {
   "cell_type": "code",
   "execution_count": 21,
   "id": "0583baf1",
   "metadata": {},
   "outputs": [
    {
     "name": "stdout",
     "output_type": "stream",
     "text": [
      "Collecting kneed\n",
      "  Downloading kneed-0.8.5-py3-none-any.whl (10 kB)\n",
      "Requirement already satisfied: numpy>=1.14.2 in c:\\programdata\\anaconda3\\lib\\site-packages (from kneed) (1.20.3)\n",
      "Requirement already satisfied: scipy>=1.0.0 in c:\\programdata\\anaconda3\\lib\\site-packages (from kneed) (1.7.1)\n",
      "Installing collected packages: kneed\n",
      "Successfully installed kneed-0.8.5\n"
     ]
    }
   ],
   "source": [
    "## Knee locator\n",
    "!pip install kneed"
   ]
  },
  {
   "cell_type": "code",
   "execution_count": 25,
   "id": "28ce7cca",
   "metadata": {},
   "outputs": [],
   "source": [
    "from kneed import KneeLocator"
   ]
  },
  {
   "cell_type": "code",
   "execution_count": 26,
   "id": "f6263c7c",
   "metadata": {},
   "outputs": [
    {
     "data": {
      "text/plain": [
       "3"
      ]
     },
     "execution_count": 26,
     "metadata": {},
     "output_type": "execute_result"
    }
   ],
   "source": [
    "k1 = KneeLocator(range(1,11),wcss, curve='convex', direction='decreasing')\n",
    "k1.elbow"
   ]
  },
  {
   "cell_type": "code",
   "execution_count": 28,
   "id": "cd25078d",
   "metadata": {},
   "outputs": [],
   "source": [
    "## Silhoutte score\n",
    "from sklearn.metrics import silhouette_score"
   ]
  },
  {
   "cell_type": "code",
   "execution_count": 29,
   "id": "244d8ced",
   "metadata": {},
   "outputs": [],
   "source": [
    "silhouette_coefficients = []\n",
    "for k in range(2,11):\n",
    "    kmeans = KMeans(n_clusters=k, init = \"k-means++\")\n",
    "    kmeans.fit(X_train)\n",
    "    score = silhouette_score(X_train, kmeans.labels_)\n",
    "    silhouette_coefficients.append(score)"
   ]
  },
  {
   "cell_type": "code",
   "execution_count": 30,
   "id": "d45a65c2",
   "metadata": {},
   "outputs": [
    {
     "data": {
      "text/plain": [
       "[0.7281443868598331,\n",
       " 0.8071181203797672,\n",
       " 0.6357733426488265,\n",
       " 0.48211706248094505,\n",
       " 0.33846659976396903,\n",
       " 0.34046192494207417,\n",
       " 0.34133651945288895,\n",
       " 0.3453878941416082,\n",
       " 0.3368383888586288]"
      ]
     },
     "execution_count": 30,
     "metadata": {},
     "output_type": "execute_result"
    }
   ],
   "source": [
    "silhouette_coefficients"
   ]
  },
  {
   "cell_type": "code",
   "execution_count": 31,
   "id": "0c75ccc3",
   "metadata": {},
   "outputs": [
    {
     "data": {
      "image/png": "[encoded data removed]",
      "text/plain": [
       "<Figure size 432x288 with 1 Axes>"
      ]
     },
     "metadata": {
      "needs_background": "light"
     },
     "output_type": "display_data"
    }
   ],
   "source": [
    "## Plotting silhouette score\n",
    "plt.plot(range(2,11),silhouette_coefficients)\n",
    "plt.xticks(range(2,11))\n",
    "plt.xlabel(\"Number of Clusters\")\n",
    "plt.ylabel(\"Silhoutte Coeffecient\")\n",
    "plt.show()"
   ]
  },
  {
   "cell_type": "code",
   "execution_count": null,
   "id": "3f1997dc",
   "metadata": {},
   "outputs": [],
   "source": []
  }
 ],
 "metadata": {
  "kernelspec": {
   "display_name": "Python 3 (ipykernel)",
   "language": "python",
   "name": "python3"
  },
  "language_info": {
   "codemirror_mode": {
    "name": "ipython",
    "version": 3
   },
   "file_extension": ".py",
   "mimetype": "text/x-python",
   "name": "python",
   "nbconvert_exporter": "python",
   "pygments_lexer": "ipython3",
   "version": "3.9.7"
  }
 },
 "nbformat": 4,
 "nbformat_minor": 5
}
